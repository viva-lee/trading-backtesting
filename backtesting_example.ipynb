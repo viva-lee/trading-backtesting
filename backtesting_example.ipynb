{
 "cells": [
  {
   "cell_type": "code",
   "execution_count": 6,
   "metadata": {},
   "outputs": [],
   "source": [
    "# 기간수익률\n",
    "def calculate_hpr(initial_value, final_value):\n",
    "    hpr = (final_value - initial_value) / initial_value\n",
    "    hpr = round(hpr*100, 2)\n",
    "    return hpr\n",
    "\n",
    "# 연평균 복리 수익률\n",
    "def calculate_cagr(initial_value, final_value, period):\n",
    "    cagr = (final_value / initial_value) ** (1 / period) - 1\n",
    "    cagr = round(cagr*100, 2)\n",
    "    return cagr"
   ]
  },
  {
   "cell_type": "code",
   "execution_count": 5,
   "metadata": {},
   "outputs": [
    {
     "data": {
      "text/plain": [
       "15.0"
      ]
     },
     "execution_count": 5,
     "metadata": {},
     "output_type": "execute_result"
    }
   ],
   "source": [
    "# 최초 자산 : 1억, 최종 자산 : 1.2억\n",
    "calculate_hpr(1, 1.15)"
   ]
  },
  {
   "cell_type": "code",
   "execution_count": 7,
   "metadata": {},
   "outputs": [
    {
     "data": {
      "text/plain": [
       "20.51"
      ]
     },
     "execution_count": 7,
     "metadata": {},
     "output_type": "execute_result"
    }
   ],
   "source": [
    "# 최초 자산 : 1억, 최종 자산 : 1.75억, 투자 기간 : 3년\n",
    "calculate_cagr(1, 1.75, 3)"
   ]
  }
 ],
 "metadata": {
  "kernelspec": {
   "display_name": "Python 3.7.13 ('py37_32')",
   "language": "python",
   "name": "python3"
  },
  "language_info": {
   "codemirror_mode": {
    "name": "ipython",
    "version": 3
   },
   "file_extension": ".py",
   "mimetype": "text/x-python",
   "name": "python",
   "nbconvert_exporter": "python",
   "pygments_lexer": "ipython3",
   "version": "3.7.13"
  },
  "orig_nbformat": 4,
  "vscode": {
   "interpreter": {
    "hash": "41fd7d6dba8bd36a040c6d379dbccdd8da4659916f400a52deb4f18fc7e5e90b"
   }
  }
 },
 "nbformat": 4,
 "nbformat_minor": 2
}
