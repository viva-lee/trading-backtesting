{
 "cells": [
  {
   "cell_type": "code",
   "execution_count": 1,
   "metadata": {},
   "outputs": [],
   "source": [
    "import numpy as np\n",
    "\n",
    "# 기간수익률\n",
    "def calculate_hpr(initial_value, final_value):\n",
    "    hpr = (final_value - initial_value) / initial_value\n",
    "    hpr = round(hpr*100, 2)\n",
    "    return hpr\n",
    "\n",
    "# 연평균 복리 수익률\n",
    "def calculate_cagr(initial_value, final_value, period):\n",
    "    cagr = (final_value / initial_value) ** (1 / period) - 1\n",
    "    cagr = round(cagr*100, 2)\n",
    "    return cagr\n",
    "\n",
    "# 최대 낙폭\n",
    "def calculate_mdd(price_array):\n",
    "    arr = np.array(price_array)\n",
    "    idx_lower = np.argmin(arr - np.maximum.accumulate(arr))\n",
    "    idx_upper = np.argmax(arr[:idx_lower])\n",
    "    mdd = (arr[idx_lower] - arr[idx_upper]) / arr[idx_upper]\n",
    "    return mdd"
   ]
  },
  {
   "cell_type": "code",
   "execution_count": 5,
   "metadata": {},
   "outputs": [
    {
     "data": {
      "text/plain": [
       "15.0"
      ]
     },
     "execution_count": 5,
     "metadata": {},
     "output_type": "execute_result"
    }
   ],
   "source": [
    "# 최초 자산 : 1억, 최종 자산 : 1.2억\n",
    "calculate_hpr(1, 1.15)"
   ]
  },
  {
   "cell_type": "code",
   "execution_count": 7,
   "metadata": {},
   "outputs": [
    {
     "data": {
      "text/plain": [
       "20.51"
      ]
     },
     "execution_count": 7,
     "metadata": {},
     "output_type": "execute_result"
    }
   ],
   "source": [
    "# 최초 자산 : 1억, 최종 자산 : 1.75억, 투자 기간 : 3년\n",
    "calculate_cagr(1, 1.75, 3)"
   ]
  },
  {
   "cell_type": "code",
   "execution_count": 11,
   "metadata": {},
   "outputs": [
    {
     "data": {
      "text/plain": [
       "-0.5"
      ]
     },
     "execution_count": 11,
     "metadata": {},
     "output_type": "execute_result"
    }
   ],
   "source": [
    "# mdd\n",
    "price_array = [100, 120, 130, 100, 65, 80, 100, 120, 140, 160]\n",
    "calculate_mdd(price_array)"
   ]
  }
 ],
 "metadata": {
  "kernelspec": {
   "display_name": "Python 3.7.13 ('py37_32')",
   "language": "python",
   "name": "python3"
  },
  "language_info": {
   "codemirror_mode": {
    "name": "ipython",
    "version": 3
   },
   "file_extension": ".py",
   "mimetype": "text/x-python",
   "name": "python",
   "nbconvert_exporter": "python",
   "pygments_lexer": "ipython3",
   "version": "3.7.13"
  },
  "orig_nbformat": 4,
  "vscode": {
   "interpreter": {
    "hash": "41fd7d6dba8bd36a040c6d379dbccdd8da4659916f400a52deb4f18fc7e5e90b"
   }
  }
 },
 "nbformat": 4,
 "nbformat_minor": 2
}
